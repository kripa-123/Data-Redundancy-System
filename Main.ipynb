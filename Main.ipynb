{
 "cells": [
  {
   "cell_type": "code",
   "execution_count": 1,
   "id": "f293051e",
   "metadata": {},
   "outputs": [
    {
     "name": "stdout",
     "output_type": "stream",
     "text": [
      "File successfully loaded!\n",
      "0       TekBahadurBista280769680Bajuda241\n",
      "1       TekBahadurBista280769680Bajuda241\n",
      "2    PratimaNeupane190329314Churkharka442\n",
      "3           BalBd.Sarki330771705khalla401\n",
      "4       DipakSinghSarki440771705khalla401\n",
      "dtype: object\n"
     ]
    }
   ],
   "source": [
    "import tkinter as tk\n",
    "from tkinter import filedialog\n",
    "import pandas as pd\n",
    "import numpy as np\n",
    "\n",
    "\n",
    "def upload_file():\n",
    "        file_path = filedialog.askopenfilename()\n",
    "        df = pd.read_csv(file_path, infer_datetime_format=True)\n",
    "\n",
    "        print(\"File successfully loaded!\")\n",
    "        df[\"name\"] = df[\"name\"].str.replace(\" \", \"\")\n",
    "        column_a = df['name'].astype(str) + df['age'].astype(str) + df['age_unit'].astype(str) + df['province_id'].astype(str) + df['district_id'].astype(str) + df['municipality_id'].astype(str) + df['tole'].astype(str) + df['ward'].astype(str) + df['caste'].astype(str) + df['sex'].astype(str)\n",
    "        print (column_a)\n",
    "\n",
    "\n",
    "root = tk.Tk()\n",
    "root.geometry(\"400x300\")\n",
    "root.title(\"Data Redundancy Detection System\")\n",
    "title_lbl=tk.Label(root, text=\"Upload .csv file\", width=30, font=(\"arial\", 18, \"bold\"))\n",
    "title_lbl.pack()\n",
    "upload_button = tk.Button(root, text=\"Upload\", command=upload_file)\n",
    "upload_button.pack()\n",
    "\n",
    "root.mainloop()\n",
    "\n",
    "   \n",
    "    \n",
    "    \n",
    "    \n",
    "    "
   ]
  }
 ],
 "metadata": {
  "kernelspec": {
   "display_name": "Python 3 (ipykernel)",
   "language": "python",
   "name": "python3"
  },
  "language_info": {
   "codemirror_mode": {
    "name": "ipython",
    "version": 3
   },
   "file_extension": ".py",
   "mimetype": "text/x-python",
   "name": "python",
   "nbconvert_exporter": "python",
   "pygments_lexer": "ipython3",
   "version": "3.11.1"
  }
 },
 "nbformat": 4,
 "nbformat_minor": 5
}
