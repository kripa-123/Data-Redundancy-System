{
 "cells": [
  {
   "cell_type": "code",
   "execution_count": null,
   "id": "15f0888e",
   "metadata": {},
   "outputs": [
    {
     "name": "stdout",
     "output_type": "stream",
     "text": [
      "File successfully loaded!\n",
      "Edit distance between Row 0 and Row 1: 0.0\n",
      "Row 0 and Row 1 are redundant\n",
      "Edit distance between Row 0 and Row 2: 31.0\n",
      "Edit distance between Row 0 and Row 3: 26.0\n",
      "Edit distance between Row 0 and Row 4: 29.0\n",
      "Edit distance between Row 1 and Row 2: 31.0\n",
      "Edit distance between Row 1 and Row 3: 26.0\n",
      "Edit distance between Row 1 and Row 4: 29.0\n",
      "Edit distance between Row 2 and Row 3: 27.0\n",
      "Edit distance between Row 2 and Row 4: 29.0\n",
      "Edit distance between Row 3 and Row 4: 11.0\n",
      "Row 3 and Row 4 are redundant\n"
     ]
    }
   ],
   "source": [
    "import tkinter as tk\n",
    "from tkinter import filedialog\n",
    "import pandas as pd\n",
    "import numpy as np\n",
    "\n",
    "\n",
    "def edit_distance(s1, s2):\n",
    "    \"\"\"Compute the edit distance between two strings.\"\"\"\n",
    "    m, n = len(s1), len(s2)\n",
    "    dp = np.zeros((m + 1, n + 1))\n",
    "    for i in range(m + 1):\n",
    "        dp[i, 0] = i\n",
    "    for j in range(n + 1):\n",
    "        dp[0, j] = j\n",
    "    for i in range(1, m + 1):\n",
    "        for j in range(1, n + 1):\n",
    "            if s1[i - 1] == s2[j - 1]:\n",
    "                dp[i, j] = dp[i - 1, j - 1]\n",
    "            else:\n",
    "                dp[i, j] = 1 + min(dp[i - 1, j], dp[i, j - 1], dp[i - 1, j - 1])\n",
    "    return dp[m, n]\n",
    "\n",
    "\n",
    "def upload_file():\n",
    "    file_path = filedialog.askopenfilename()\n",
    "    df = pd.read_csv(file_path, infer_datetime_format=True)\n",
    "\n",
    "    print(\"File successfully loaded!\")\n",
    "    df[\"name\"] = df[\"name\"].str.replace(\" \", \"\")\n",
    "    column_a = df['name'].astype(str) + df['age'].astype(str) + df['age_unit'].astype(str) + df['province_id'].astype(str) + df['district_id'].astype(str) + df['municipality_id'].astype(str) + df['tole'].astype(str) + df['ward'].astype(str) + df['caste'].astype(str) + df['sex'].astype(str)\n",
    "    n = len(column_a)\n",
    "    for i in range(n):\n",
    "        for j in range(i + 1, n):\n",
    "            dist = edit_distance(column_a.iloc[i], column_a.iloc[j])\n",
    "            print(f\"Edit distance between Row {i} and Row {j}: {dist}\")\n",
    "            if dist <= 11.0:\n",
    "                print(f\"Row {i}: {df.iloc[i]}\")\n",
    "                print(f\"Row {j}: {df.iloc[j]}\")\n",
    "\n",
    "\n",
    "root = tk.Tk()\n",
    "root.geometry(\"400x300\")\n",
    "root.title(\"Data Redundancy Detection System\")\n",
    "title_lbl = tk.Label(root, text=\"Upload .csv file\", width=30, font=(\"arial\", 18, \"bold\"))\n",
    "title_lbl.pack()\n",
    "upload_button = tk.Button(root, text=\"Upload\", command=upload_file)\n",
    "upload_button.pack()\n",
    "\n",
    "root.mainloop()\n"
   ]
  },
  {
   "cell_type": "code",
   "execution_count": null,
   "id": "a09b9551",
   "metadata": {},
   "outputs": [],
   "source": []
  }
 ],
 "metadata": {
  "kernelspec": {
   "display_name": "Python 3 (ipykernel)",
   "language": "python",
   "name": "python3"
  },
  "language_info": {
   "codemirror_mode": {
    "name": "ipython",
    "version": 3
   },
   "file_extension": ".py",
   "mimetype": "text/x-python",
   "name": "python",
   "nbconvert_exporter": "python",
   "pygments_lexer": "ipython3",
   "version": "3.11.1"
  }
 },
 "nbformat": 4,
 "nbformat_minor": 5
}
