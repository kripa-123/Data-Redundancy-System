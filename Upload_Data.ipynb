{
 "cells": [
  {
   "cell_type": "code",
   "execution_count": 1,
   "id": "6f484369",
   "metadata": {
    "scrolled": true
   },
   "outputs": [
    {
     "ename": "ModuleNotFoundError",
     "evalue": "No module named 'editdistance'",
     "output_type": "error",
     "traceback": [
      "\u001b[1;31m---------------------------------------------------------------------------\u001b[0m",
      "\u001b[1;31mModuleNotFoundError\u001b[0m                       Traceback (most recent call last)",
      "Cell \u001b[1;32mIn[1], line 5\u001b[0m\n\u001b[0;32m      3\u001b[0m \u001b[38;5;28;01mimport\u001b[39;00m \u001b[38;5;21;01mpandas\u001b[39;00m \u001b[38;5;28;01mas\u001b[39;00m \u001b[38;5;21;01mpd\u001b[39;00m\n\u001b[0;32m      4\u001b[0m \u001b[38;5;28;01mimport\u001b[39;00m \u001b[38;5;21;01mnumpy\u001b[39;00m \u001b[38;5;28;01mas\u001b[39;00m \u001b[38;5;21;01mnp\u001b[39;00m\n\u001b[1;32m----> 5\u001b[0m \u001b[38;5;28;01mimport\u001b[39;00m \u001b[38;5;21;01meditdistance\u001b[39;00m\n\u001b[0;32m      7\u001b[0m \u001b[38;5;28;01mdef\u001b[39;00m \u001b[38;5;21mlevenshtein\u001b[39m(s1, s2):\n\u001b[0;32m      8\u001b[0m     \u001b[38;5;66;03m# Calculate the Levenshtein distance between two strings\u001b[39;00m\n\u001b[0;32m      9\u001b[0m     \u001b[38;5;28;01mif\u001b[39;00m \u001b[38;5;28mlen\u001b[39m(s1) \u001b[38;5;241m==\u001b[39m \u001b[38;5;241m0\u001b[39m:\n",
      "\u001b[1;31mModuleNotFoundError\u001b[0m: No module named 'editdistance'"
     ]
    }
   ],
   "source": [
    "import tkinter as tk\n",
    "from tkinter import filedialog\n",
    "import pandas as pd\n",
    "import numpy as np\n",
    "import editdistance\n",
    "\n",
    "def levenshtein(s1, s2):\n",
    "    # Calculate the Levenshtein distance between two strings\n",
    "    if len(s1) == 0:\n",
    "        return len(s2)\n",
    "    if len(s2) == 0:\n",
    "        return len(s1)\n",
    "\n",
    "    cost = 0\n",
    "    if s1[-1] != s2[-1]:\n",
    "        cost = 1\n",
    "\n",
    "    return min(levenshtein(s1[:-1], s2) + 1,\n",
    "               levenshtein(s1, s2[:-1]) + 1,\n",
    "               levenshtein(s1[:-1], s2[:-1]) + cost)\n",
    "\n",
    "def upload_file():\n",
    "    try:\n",
    "        file_path = filedialog.askopenfilename()\n",
    "        df = pd.read_csv(file_path, infer_datetime_format=True)\n",
    "\n",
    "        print(\"File successfully loaded!\")\n",
    "        df[\"name\"] = df[\"name\"].str.replace(\" \", \"\")\n",
    "        column_a = df['name'].astype(str) + df['age'].astype(str) + df['age_unit'].astype(str) + df['province_id'].astype(str) + df['district_id'].astype(str) + df['municipality_id'].astype(str) + df['tole'].astype(str) + df['ward'].astype(str) + df['caste'].astype(str) + df['sex'].astype(str)\n",
    "\n",
    "        print(\"Comparing strings using the Levenshtein distance algorithm...\")\n",
    "        distances = np.zeros((len(column_a), len(column_a)))\n",
    "        for i in range(len(column_a)):\n",
    "            for j in range(i+1, len(column_a)):\n",
    "                distances[i][j] = levenshtein(column_a[i], column_a[j])\n",
    "                distances[j][i] = distances[i][j]\n",
    "\n",
    "        print(\"Distances matrix:\")\n",
    "        print(distances)\n",
    "    except Exception as e:\n",
    "        print(\"An error occurred:\", str(e))\n",
    "\n",
    "root = tk.Tk()\n",
    "root.geometry(\"400x300\")\n",
    "root.title(\"Data Redundancy Detection System\")\n",
    "title_lbl=tk.Label(root, text=\"Upload .csv file\", width=30, font=(\"arial\", 18, \"bold\"))\n",
    "title_lbl.pack()\n",
    "upload_button = tk.Button(root, text=\"Upload\", command=upload_file)\n",
    "upload_button.pack()\n",
    "\n",
    "root.mainloop()"
   ]
  },
  {
   "cell_type": "code",
   "execution_count": null,
   "id": "da24226a",
   "metadata": {},
   "outputs": [],
   "source": [
    "# name,age,age_unit,sex,caste,address,case-id\n"
   ]
  },
  {
   "cell_type": "code",
   "execution_count": null,
   "id": "2dc542e0",
   "metadata": {},
   "outputs": [],
   "source": []
  }
 ],
 "metadata": {
  "kernelspec": {
   "display_name": "Python 3 (ipykernel)",
   "language": "python",
   "name": "python3"
  },
  "language_info": {
   "codemirror_mode": {
    "name": "ipython",
    "version": 3
   },
   "file_extension": ".py",
   "mimetype": "text/x-python",
   "name": "python",
   "nbconvert_exporter": "python",
   "pygments_lexer": "ipython3",
   "version": "3.11.1"
  }
 },
 "nbformat": 4,
 "nbformat_minor": 5
}
